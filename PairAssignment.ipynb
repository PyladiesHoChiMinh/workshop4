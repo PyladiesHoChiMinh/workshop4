{
 "cells": [
  {
   "cell_type": "code",
   "execution_count": 1,
   "metadata": {
    "collapsed": true
   },
   "outputs": [],
   "source": [
    "import numpy as np\n",
    "import pandas as pd"
   ]
  },
  {
   "cell_type": "markdown",
   "metadata": {},
   "source": [
    "Link https://github.com/pandas-dev/pandas/blob/master/doc/cheatsheet/Pandas_Cheat_Sheet.pdf"
   ]
  },
  {
   "cell_type": "code",
   "execution_count": 2,
   "metadata": {
    "collapsed": true
   },
   "outputs": [],
   "source": [
    "df_sheet0 = pd.read_excel(\"./data/vietnma_the_world_bank.xlsx\", sheetname=0, skiprows=3)"
   ]
  },
  {
   "cell_type": "code",
   "execution_count": 3,
   "metadata": {},
   "outputs": [],
   "source": [
    "df_sheet1 = pd.read_excel(\"./data/vietnma_the_world_bank.xlsx\", sheetname=1)"
   ]
  },
  {
   "cell_type": "code",
   "execution_count": 4,
   "metadata": {},
   "outputs": [],
   "source": [
    "df_sheet2 = pd.read_excel(\"./data/vietnma_the_world_bank.xlsx\", sheetname=2)"
   ]
  },
  {
   "cell_type": "code",
   "execution_count": 5,
   "metadata": {},
   "outputs": [],
   "source": [
    "xl_file = pd.ExcelFile(\"./data/vietnma_the_world_bank.xlsx\")\n",
    "\n",
    "dfs = {sheet_name: xl_file.parse(sheet_name) \n",
    "          for sheet_name in xl_file.sheet_names}"
   ]
  },
  {
   "cell_type": "code",
   "execution_count": 6,
   "metadata": {},
   "outputs": [
    {
     "data": {
      "text/plain": [
       "dict_keys(['Data', 'Metadata - Countries', 'Metadata - Indicators'])"
      ]
     },
     "execution_count": 6,
     "metadata": {},
     "output_type": "execute_result"
    }
   ],
   "source": [
    "dfs.keys()"
   ]
  },
  {
   "cell_type": "code",
   "execution_count": 7,
   "metadata": {},
   "outputs": [
    {
     "data": {
      "text/html": [
       "<div>\n",
       "<style>\n",
       "    .dataframe thead tr:only-child th {\n",
       "        text-align: right;\n",
       "    }\n",
       "\n",
       "    .dataframe thead th {\n",
       "        text-align: left;\n",
       "    }\n",
       "\n",
       "    .dataframe tbody tr th {\n",
       "        vertical-align: top;\n",
       "    }\n",
       "</style>\n",
       "<table border=\"1\" class=\"dataframe\">\n",
       "  <thead>\n",
       "    <tr style=\"text-align: right;\">\n",
       "      <th></th>\n",
       "      <th>INDICATOR_CODE</th>\n",
       "      <th>INDICATOR_NAME</th>\n",
       "      <th>SOURCE_NOTE</th>\n",
       "      <th>SOURCE_ORGANIZATION</th>\n",
       "    </tr>\n",
       "  </thead>\n",
       "  <tbody>\n",
       "    <tr>\n",
       "      <th>count</th>\n",
       "      <td>1575</td>\n",
       "      <td>1575</td>\n",
       "      <td>1568</td>\n",
       "      <td>1568</td>\n",
       "    </tr>\n",
       "    <tr>\n",
       "      <th>unique</th>\n",
       "      <td>1575</td>\n",
       "      <td>1575</td>\n",
       "      <td>1231</td>\n",
       "      <td>195</td>\n",
       "    </tr>\n",
       "    <tr>\n",
       "      <th>top</th>\n",
       "      <td>DT.DOD.MLAT.CD</td>\n",
       "      <td>Net bilateral aid flows from DAC donors, Canad...</td>\n",
       "      <td>Net bilateral aid flows from DAC donors are th...</td>\n",
       "      <td>World Bank, International Debt Statistics.</td>\n",
       "    </tr>\n",
       "    <tr>\n",
       "      <th>freq</th>\n",
       "      <td>1</td>\n",
       "      <td>1</td>\n",
       "      <td>30</td>\n",
       "      <td>213</td>\n",
       "    </tr>\n",
       "  </tbody>\n",
       "</table>\n",
       "</div>"
      ],
      "text/plain": [
       "        INDICATOR_CODE                                     INDICATOR_NAME  \\\n",
       "count             1575                                               1575   \n",
       "unique            1575                                               1575   \n",
       "top     DT.DOD.MLAT.CD  Net bilateral aid flows from DAC donors, Canad...   \n",
       "freq                 1                                                  1   \n",
       "\n",
       "                                              SOURCE_NOTE  \\\n",
       "count                                                1568   \n",
       "unique                                               1231   \n",
       "top     Net bilateral aid flows from DAC donors are th...   \n",
       "freq                                                   30   \n",
       "\n",
       "                               SOURCE_ORGANIZATION  \n",
       "count                                         1568  \n",
       "unique                                         195  \n",
       "top     World Bank, International Debt Statistics.  \n",
       "freq                                           213  "
      ]
     },
     "execution_count": 7,
     "metadata": {},
     "output_type": "execute_result"
    }
   ],
   "source": [
    "dfs['Metadata - Indicators'].describe()"
   ]
  },
  {
   "cell_type": "code",
   "execution_count": 8,
   "metadata": {},
   "outputs": [
    {
     "data": {
      "text/html": [
       "<div>\n",
       "<style>\n",
       "    .dataframe thead tr:only-child th {\n",
       "        text-align: right;\n",
       "    }\n",
       "\n",
       "    .dataframe thead th {\n",
       "        text-align: left;\n",
       "    }\n",
       "\n",
       "    .dataframe tbody tr th {\n",
       "        vertical-align: top;\n",
       "    }\n",
       "</style>\n",
       "<table border=\"1\" class=\"dataframe\">\n",
       "  <thead>\n",
       "    <tr style=\"text-align: right;\">\n",
       "      <th></th>\n",
       "      <th>INDICATOR_CODE</th>\n",
       "      <th>INDICATOR_NAME</th>\n",
       "      <th>SOURCE_NOTE</th>\n",
       "      <th>SOURCE_ORGANIZATION</th>\n",
       "    </tr>\n",
       "  </thead>\n",
       "  <tbody>\n",
       "    <tr>\n",
       "      <th>0</th>\n",
       "      <td>SP.POP.6064.FE.5Y</td>\n",
       "      <td>Population ages 60-64, female (% of female pop...</td>\n",
       "      <td>Female population between the ages 60 to 64 as...</td>\n",
       "      <td>World Bank staff estimates based on age/sex di...</td>\n",
       "    </tr>\n",
       "    <tr>\n",
       "      <th>1</th>\n",
       "      <td>SP.POP.5559.MA.5Y</td>\n",
       "      <td>Population ages 55-59, male (% of male populat...</td>\n",
       "      <td>Male population between the ages 55 to 59 as a...</td>\n",
       "      <td>World Bank staff estimates based on age/sex di...</td>\n",
       "    </tr>\n",
       "    <tr>\n",
       "      <th>2</th>\n",
       "      <td>SP.POP.5559.FE.5Y</td>\n",
       "      <td>Population ages 55-59, female (% of female pop...</td>\n",
       "      <td>Female population between the ages 55 to 59 as...</td>\n",
       "      <td>World Bank staff estimates based on age/sex di...</td>\n",
       "    </tr>\n",
       "    <tr>\n",
       "      <th>3</th>\n",
       "      <td>SP.POP.5054.MA.5Y</td>\n",
       "      <td>Population ages 50-54, male (% of male populat...</td>\n",
       "      <td>Male population between the ages 50 to 54 as a...</td>\n",
       "      <td>World Bank staff estimates based on age/sex di...</td>\n",
       "    </tr>\n",
       "    <tr>\n",
       "      <th>4</th>\n",
       "      <td>SP.POP.5054.FE.5Y</td>\n",
       "      <td>Population ages 50-54, female (% of female pop...</td>\n",
       "      <td>Female population between the ages 50 to 54 as...</td>\n",
       "      <td>World Bank staff estimates based on age/sex di...</td>\n",
       "    </tr>\n",
       "  </tbody>\n",
       "</table>\n",
       "</div>"
      ],
      "text/plain": [
       "      INDICATOR_CODE                                     INDICATOR_NAME  \\\n",
       "0  SP.POP.6064.FE.5Y  Population ages 60-64, female (% of female pop...   \n",
       "1  SP.POP.5559.MA.5Y  Population ages 55-59, male (% of male populat...   \n",
       "2  SP.POP.5559.FE.5Y  Population ages 55-59, female (% of female pop...   \n",
       "3  SP.POP.5054.MA.5Y  Population ages 50-54, male (% of male populat...   \n",
       "4  SP.POP.5054.FE.5Y  Population ages 50-54, female (% of female pop...   \n",
       "\n",
       "                                         SOURCE_NOTE  \\\n",
       "0  Female population between the ages 60 to 64 as...   \n",
       "1  Male population between the ages 55 to 59 as a...   \n",
       "2  Female population between the ages 55 to 59 as...   \n",
       "3  Male population between the ages 50 to 54 as a...   \n",
       "4  Female population between the ages 50 to 54 as...   \n",
       "\n",
       "                                 SOURCE_ORGANIZATION  \n",
       "0  World Bank staff estimates based on age/sex di...  \n",
       "1  World Bank staff estimates based on age/sex di...  \n",
       "2  World Bank staff estimates based on age/sex di...  \n",
       "3  World Bank staff estimates based on age/sex di...  \n",
       "4  World Bank staff estimates based on age/sex di...  "
      ]
     },
     "execution_count": 8,
     "metadata": {},
     "output_type": "execute_result"
    }
   ],
   "source": [
    "dfs['Metadata - Indicators'].head()"
   ]
  },
  {
   "cell_type": "code",
   "execution_count": 9,
   "metadata": {},
   "outputs": [
    {
     "data": {
      "text/html": [
       "<div>\n",
       "<style>\n",
       "    .dataframe thead tr:only-child th {\n",
       "        text-align: right;\n",
       "    }\n",
       "\n",
       "    .dataframe thead th {\n",
       "        text-align: left;\n",
       "    }\n",
       "\n",
       "    .dataframe tbody tr th {\n",
       "        vertical-align: top;\n",
       "    }\n",
       "</style>\n",
       "<table border=\"1\" class=\"dataframe\">\n",
       "  <thead>\n",
       "    <tr style=\"text-align: right;\">\n",
       "      <th></th>\n",
       "      <th>Data Source</th>\n",
       "      <th>World Development Indicators</th>\n",
       "      <th>Unnamed: 2</th>\n",
       "      <th>Unnamed: 3</th>\n",
       "      <th>Unnamed: 4</th>\n",
       "      <th>Unnamed: 5</th>\n",
       "      <th>Unnamed: 6</th>\n",
       "      <th>Unnamed: 7</th>\n",
       "      <th>Unnamed: 8</th>\n",
       "      <th>Unnamed: 9</th>\n",
       "      <th>...</th>\n",
       "      <th>Unnamed: 52</th>\n",
       "      <th>Unnamed: 53</th>\n",
       "      <th>Unnamed: 54</th>\n",
       "      <th>Unnamed: 55</th>\n",
       "      <th>Unnamed: 56</th>\n",
       "      <th>Unnamed: 57</th>\n",
       "      <th>Unnamed: 58</th>\n",
       "      <th>Unnamed: 59</th>\n",
       "      <th>Unnamed: 60</th>\n",
       "      <th>Unnamed: 61</th>\n",
       "    </tr>\n",
       "  </thead>\n",
       "  <tbody>\n",
       "    <tr>\n",
       "      <th>0</th>\n",
       "      <td>Last Updated Date</td>\n",
       "      <td>2018-03-01 00:00:00</td>\n",
       "      <td>NaN</td>\n",
       "      <td>NaN</td>\n",
       "      <td>NaN</td>\n",
       "      <td>NaN</td>\n",
       "      <td>NaN</td>\n",
       "      <td>NaN</td>\n",
       "      <td>NaN</td>\n",
       "      <td>NaN</td>\n",
       "      <td>...</td>\n",
       "      <td>NaN</td>\n",
       "      <td>NaN</td>\n",
       "      <td>NaN</td>\n",
       "      <td>NaN</td>\n",
       "      <td>NaN</td>\n",
       "      <td>NaN</td>\n",
       "      <td>NaN</td>\n",
       "      <td>NaN</td>\n",
       "      <td>NaN</td>\n",
       "      <td>NaN</td>\n",
       "    </tr>\n",
       "    <tr>\n",
       "      <th>1</th>\n",
       "      <td>NaN</td>\n",
       "      <td>NaN</td>\n",
       "      <td>NaN</td>\n",
       "      <td>NaN</td>\n",
       "      <td>NaN</td>\n",
       "      <td>NaN</td>\n",
       "      <td>NaN</td>\n",
       "      <td>NaN</td>\n",
       "      <td>NaN</td>\n",
       "      <td>NaN</td>\n",
       "      <td>...</td>\n",
       "      <td>NaN</td>\n",
       "      <td>NaN</td>\n",
       "      <td>NaN</td>\n",
       "      <td>NaN</td>\n",
       "      <td>NaN</td>\n",
       "      <td>NaN</td>\n",
       "      <td>NaN</td>\n",
       "      <td>NaN</td>\n",
       "      <td>NaN</td>\n",
       "      <td>NaN</td>\n",
       "    </tr>\n",
       "    <tr>\n",
       "      <th>2</th>\n",
       "      <td>Country Name</td>\n",
       "      <td>Country Code</td>\n",
       "      <td>Indicator Name</td>\n",
       "      <td>Indicator Code</td>\n",
       "      <td>1960.000000</td>\n",
       "      <td>1961.000000</td>\n",
       "      <td>1962.000000</td>\n",
       "      <td>1963.000000</td>\n",
       "      <td>1964.000000</td>\n",
       "      <td>1965.000000</td>\n",
       "      <td>...</td>\n",
       "      <td>2008.000000</td>\n",
       "      <td>2009.000000</td>\n",
       "      <td>2010.000000</td>\n",
       "      <td>2011.000000</td>\n",
       "      <td>2012.000000</td>\n",
       "      <td>2013.000000</td>\n",
       "      <td>2014.000000</td>\n",
       "      <td>2015.000000</td>\n",
       "      <td>2016.000000</td>\n",
       "      <td>2017.0</td>\n",
       "    </tr>\n",
       "    <tr>\n",
       "      <th>3</th>\n",
       "      <td>Vietnam</td>\n",
       "      <td>VNM</td>\n",
       "      <td>Population ages 60-64, female (% of female pop...</td>\n",
       "      <td>SP.POP.6064.FE.5Y</td>\n",
       "      <td>3.047353</td>\n",
       "      <td>3.079147</td>\n",
       "      <td>3.132275</td>\n",
       "      <td>3.185398</td>\n",
       "      <td>3.210942</td>\n",
       "      <td>3.196002</td>\n",
       "      <td>...</td>\n",
       "      <td>2.339585</td>\n",
       "      <td>2.433737</td>\n",
       "      <td>2.582015</td>\n",
       "      <td>2.776872</td>\n",
       "      <td>3.020101</td>\n",
       "      <td>3.290913</td>\n",
       "      <td>3.560960</td>\n",
       "      <td>3.812616</td>\n",
       "      <td>4.040186</td>\n",
       "      <td>NaN</td>\n",
       "    </tr>\n",
       "    <tr>\n",
       "      <th>4</th>\n",
       "      <td>Vietnam</td>\n",
       "      <td>VNM</td>\n",
       "      <td>Population ages 55-59, male (% of male populat...</td>\n",
       "      <td>SP.POP.5559.MA.5Y</td>\n",
       "      <td>3.745534</td>\n",
       "      <td>3.660780</td>\n",
       "      <td>3.534051</td>\n",
       "      <td>3.395643</td>\n",
       "      <td>3.286788</td>\n",
       "      <td>3.225884</td>\n",
       "      <td>...</td>\n",
       "      <td>3.182864</td>\n",
       "      <td>3.472252</td>\n",
       "      <td>3.737645</td>\n",
       "      <td>3.975444</td>\n",
       "      <td>4.191624</td>\n",
       "      <td>4.385131</td>\n",
       "      <td>4.558692</td>\n",
       "      <td>4.714980</td>\n",
       "      <td>4.844654</td>\n",
       "      <td>NaN</td>\n",
       "    </tr>\n",
       "    <tr>\n",
       "      <th>5</th>\n",
       "      <td>Vietnam</td>\n",
       "      <td>VNM</td>\n",
       "      <td>Population ages 55-59, female (% of female pop...</td>\n",
       "      <td>SP.POP.5559.FE.5Y</td>\n",
       "      <td>3.933625</td>\n",
       "      <td>3.852987</td>\n",
       "      <td>3.729332</td>\n",
       "      <td>3.591178</td>\n",
       "      <td>3.479290</td>\n",
       "      <td>3.414315</td>\n",
       "      <td>...</td>\n",
       "      <td>3.587725</td>\n",
       "      <td>3.883172</td>\n",
       "      <td>4.161508</td>\n",
       "      <td>4.406157</td>\n",
       "      <td>4.631889</td>\n",
       "      <td>4.834286</td>\n",
       "      <td>5.011038</td>\n",
       "      <td>5.161166</td>\n",
       "      <td>5.277387</td>\n",
       "      <td>NaN</td>\n",
       "    </tr>\n",
       "    <tr>\n",
       "      <th>6</th>\n",
       "      <td>Vietnam</td>\n",
       "      <td>VNM</td>\n",
       "      <td>Population ages 50-54, male (% of male populat...</td>\n",
       "      <td>SP.POP.5054.MA.5Y</td>\n",
       "      <td>3.988440</td>\n",
       "      <td>3.939553</td>\n",
       "      <td>3.933405</td>\n",
       "      <td>3.943695</td>\n",
       "      <td>3.936900</td>\n",
       "      <td>3.897033</td>\n",
       "      <td>...</td>\n",
       "      <td>4.904244</td>\n",
       "      <td>5.103350</td>\n",
       "      <td>5.286712</td>\n",
       "      <td>5.418051</td>\n",
       "      <td>5.529077</td>\n",
       "      <td>5.621988</td>\n",
       "      <td>5.700402</td>\n",
       "      <td>5.766860</td>\n",
       "      <td>5.807567</td>\n",
       "      <td>NaN</td>\n",
       "    </tr>\n",
       "    <tr>\n",
       "      <th>7</th>\n",
       "      <td>Vietnam</td>\n",
       "      <td>VNM</td>\n",
       "      <td>Population ages 50-54, female (% of female pop...</td>\n",
       "      <td>SP.POP.5054.FE.5Y</td>\n",
       "      <td>4.138790</td>\n",
       "      <td>4.088978</td>\n",
       "      <td>4.085512</td>\n",
       "      <td>4.102094</td>\n",
       "      <td>4.101437</td>\n",
       "      <td>4.064404</td>\n",
       "      <td>...</td>\n",
       "      <td>5.170835</td>\n",
       "      <td>5.379014</td>\n",
       "      <td>5.557725</td>\n",
       "      <td>5.678141</td>\n",
       "      <td>5.768746</td>\n",
       "      <td>5.834123</td>\n",
       "      <td>5.882915</td>\n",
       "      <td>5.921155</td>\n",
       "      <td>5.944450</td>\n",
       "      <td>NaN</td>\n",
       "    </tr>\n",
       "    <tr>\n",
       "      <th>8</th>\n",
       "      <td>Vietnam</td>\n",
       "      <td>VNM</td>\n",
       "      <td>Population ages 45-49, male (% of male populat...</td>\n",
       "      <td>SP.POP.4549.MA.5Y</td>\n",
       "      <td>4.766543</td>\n",
       "      <td>4.678116</td>\n",
       "      <td>4.554507</td>\n",
       "      <td>4.420196</td>\n",
       "      <td>4.309798</td>\n",
       "      <td>4.239815</td>\n",
       "      <td>...</td>\n",
       "      <td>6.141195</td>\n",
       "      <td>6.243633</td>\n",
       "      <td>6.327825</td>\n",
       "      <td>6.364817</td>\n",
       "      <td>6.389572</td>\n",
       "      <td>6.407013</td>\n",
       "      <td>6.427030</td>\n",
       "      <td>6.455980</td>\n",
       "      <td>6.486955</td>\n",
       "      <td>NaN</td>\n",
       "    </tr>\n",
       "    <tr>\n",
       "      <th>9</th>\n",
       "      <td>Vietnam</td>\n",
       "      <td>VNM</td>\n",
       "      <td>Population ages 45-49, female (% of female pop...</td>\n",
       "      <td>SP.POP.4549.FE.5Y</td>\n",
       "      <td>4.854638</td>\n",
       "      <td>4.758350</td>\n",
       "      <td>4.625814</td>\n",
       "      <td>4.484975</td>\n",
       "      <td>4.375967</td>\n",
       "      <td>4.317995</td>\n",
       "      <td>...</td>\n",
       "      <td>6.198260</td>\n",
       "      <td>6.269772</td>\n",
       "      <td>6.318612</td>\n",
       "      <td>6.340956</td>\n",
       "      <td>6.351213</td>\n",
       "      <td>6.356078</td>\n",
       "      <td>6.367596</td>\n",
       "      <td>6.393217</td>\n",
       "      <td>6.436026</td>\n",
       "      <td>NaN</td>\n",
       "    </tr>\n",
       "  </tbody>\n",
       "</table>\n",
       "<p>10 rows × 62 columns</p>\n",
       "</div>"
      ],
      "text/plain": [
       "         Data Source World Development Indicators  \\\n",
       "0  Last Updated Date          2018-03-01 00:00:00   \n",
       "1                NaN                          NaN   \n",
       "2       Country Name                 Country Code   \n",
       "3            Vietnam                          VNM   \n",
       "4            Vietnam                          VNM   \n",
       "5            Vietnam                          VNM   \n",
       "6            Vietnam                          VNM   \n",
       "7            Vietnam                          VNM   \n",
       "8            Vietnam                          VNM   \n",
       "9            Vietnam                          VNM   \n",
       "\n",
       "                                          Unnamed: 2         Unnamed: 3  \\\n",
       "0                                                NaN                NaN   \n",
       "1                                                NaN                NaN   \n",
       "2                                     Indicator Name     Indicator Code   \n",
       "3  Population ages 60-64, female (% of female pop...  SP.POP.6064.FE.5Y   \n",
       "4  Population ages 55-59, male (% of male populat...  SP.POP.5559.MA.5Y   \n",
       "5  Population ages 55-59, female (% of female pop...  SP.POP.5559.FE.5Y   \n",
       "6  Population ages 50-54, male (% of male populat...  SP.POP.5054.MA.5Y   \n",
       "7  Population ages 50-54, female (% of female pop...  SP.POP.5054.FE.5Y   \n",
       "8  Population ages 45-49, male (% of male populat...  SP.POP.4549.MA.5Y   \n",
       "9  Population ages 45-49, female (% of female pop...  SP.POP.4549.FE.5Y   \n",
       "\n",
       "    Unnamed: 4   Unnamed: 5   Unnamed: 6   Unnamed: 7   Unnamed: 8  \\\n",
       "0          NaN          NaN          NaN          NaN          NaN   \n",
       "1          NaN          NaN          NaN          NaN          NaN   \n",
       "2  1960.000000  1961.000000  1962.000000  1963.000000  1964.000000   \n",
       "3     3.047353     3.079147     3.132275     3.185398     3.210942   \n",
       "4     3.745534     3.660780     3.534051     3.395643     3.286788   \n",
       "5     3.933625     3.852987     3.729332     3.591178     3.479290   \n",
       "6     3.988440     3.939553     3.933405     3.943695     3.936900   \n",
       "7     4.138790     4.088978     4.085512     4.102094     4.101437   \n",
       "8     4.766543     4.678116     4.554507     4.420196     4.309798   \n",
       "9     4.854638     4.758350     4.625814     4.484975     4.375967   \n",
       "\n",
       "    Unnamed: 9     ...       Unnamed: 52  Unnamed: 53  Unnamed: 54  \\\n",
       "0          NaN     ...               NaN          NaN          NaN   \n",
       "1          NaN     ...               NaN          NaN          NaN   \n",
       "2  1965.000000     ...       2008.000000  2009.000000  2010.000000   \n",
       "3     3.196002     ...          2.339585     2.433737     2.582015   \n",
       "4     3.225884     ...          3.182864     3.472252     3.737645   \n",
       "5     3.414315     ...          3.587725     3.883172     4.161508   \n",
       "6     3.897033     ...          4.904244     5.103350     5.286712   \n",
       "7     4.064404     ...          5.170835     5.379014     5.557725   \n",
       "8     4.239815     ...          6.141195     6.243633     6.327825   \n",
       "9     4.317995     ...          6.198260     6.269772     6.318612   \n",
       "\n",
       "   Unnamed: 55  Unnamed: 56  Unnamed: 57  Unnamed: 58  Unnamed: 59  \\\n",
       "0          NaN          NaN          NaN          NaN          NaN   \n",
       "1          NaN          NaN          NaN          NaN          NaN   \n",
       "2  2011.000000  2012.000000  2013.000000  2014.000000  2015.000000   \n",
       "3     2.776872     3.020101     3.290913     3.560960     3.812616   \n",
       "4     3.975444     4.191624     4.385131     4.558692     4.714980   \n",
       "5     4.406157     4.631889     4.834286     5.011038     5.161166   \n",
       "6     5.418051     5.529077     5.621988     5.700402     5.766860   \n",
       "7     5.678141     5.768746     5.834123     5.882915     5.921155   \n",
       "8     6.364817     6.389572     6.407013     6.427030     6.455980   \n",
       "9     6.340956     6.351213     6.356078     6.367596     6.393217   \n",
       "\n",
       "   Unnamed: 60  Unnamed: 61  \n",
       "0          NaN          NaN  \n",
       "1          NaN          NaN  \n",
       "2  2016.000000       2017.0  \n",
       "3     4.040186          NaN  \n",
       "4     4.844654          NaN  \n",
       "5     5.277387          NaN  \n",
       "6     5.807567          NaN  \n",
       "7     5.944450          NaN  \n",
       "8     6.486955          NaN  \n",
       "9     6.436026          NaN  \n",
       "\n",
       "[10 rows x 62 columns]"
      ]
     },
     "execution_count": 9,
     "metadata": {},
     "output_type": "execute_result"
    }
   ],
   "source": [
    "dfs['Data'].head(10)"
   ]
  },
  {
   "cell_type": "code",
   "execution_count": null,
   "metadata": {},
   "outputs": [],
   "source": []
  },
  {
   "cell_type": "code",
   "execution_count": 22,
   "metadata": {},
   "outputs": [
    {
     "ename": "TypeError",
     "evalue": "get_values() takes 1 positional argument but 2 were given",
     "output_type": "error",
     "traceback": [
      "\u001b[0;31m---------------------------------------------------------------------------\u001b[0m",
      "\u001b[0;31mTypeError\u001b[0m                                 Traceback (most recent call last)",
      "\u001b[0;32m<ipython-input-22-e6bcae734afb>\u001b[0m in \u001b[0;36m<module>\u001b[0;34m()\u001b[0m\n\u001b[0;32m----> 1\u001b[0;31m \u001b[0mdfs\u001b[0m\u001b[0;34m[\u001b[0m\u001b[0;34m'Data'\u001b[0m\u001b[0;34m]\u001b[0m\u001b[0;34m.\u001b[0m\u001b[0mcolumns\u001b[0m \u001b[0;34m=\u001b[0m \u001b[0mdfs\u001b[0m\u001b[0;34m[\u001b[0m\u001b[0;34m'Data'\u001b[0m\u001b[0;34m]\u001b[0m\u001b[0;34m.\u001b[0m\u001b[0miloc\u001b[0m\u001b[0;34m[\u001b[0m\u001b[0;36m2\u001b[0m\u001b[0;34m,\u001b[0m \u001b[0;34m:\u001b[0m\u001b[0;34m]\u001b[0m\u001b[0;34m.\u001b[0m\u001b[0mget_values\u001b[0m\u001b[0;34m(\u001b[0m\u001b[0mint\u001b[0m\u001b[0;34m)\u001b[0m\u001b[0;34m.\u001b[0m\u001b[0mastype\u001b[0m\u001b[0;34m(\u001b[0m\u001b[0mstr\u001b[0m\u001b[0;34m)\u001b[0m\u001b[0;34m\u001b[0m\u001b[0m\n\u001b[0m\u001b[1;32m      2\u001b[0m \u001b[0mdfs\u001b[0m\u001b[0;34m[\u001b[0m\u001b[0;34m'Data'\u001b[0m\u001b[0;34m]\u001b[0m\u001b[0;34m.\u001b[0m\u001b[0mdrop\u001b[0m\u001b[0;34m(\u001b[0m\u001b[0;34m[\u001b[0m\u001b[0;36m0\u001b[0m\u001b[0;34m,\u001b[0m\u001b[0;36m1\u001b[0m\u001b[0;34m,\u001b[0m\u001b[0;36m2\u001b[0m\u001b[0;34m]\u001b[0m\u001b[0;34m,\u001b[0m \u001b[0minplace\u001b[0m\u001b[0;34m=\u001b[0m\u001b[0;32mTrue\u001b[0m\u001b[0;34m,\u001b[0m \u001b[0maxis\u001b[0m\u001b[0;34m=\u001b[0m\u001b[0;36m0\u001b[0m\u001b[0;34m)\u001b[0m   \u001b[0;31m#Only do it once\u001b[0m\u001b[0;34m\u001b[0m\u001b[0m\n\u001b[1;32m      3\u001b[0m \u001b[0mdfs\u001b[0m\u001b[0;34m[\u001b[0m\u001b[0;34m'Data'\u001b[0m\u001b[0;34m]\u001b[0m\u001b[0;34m.\u001b[0m\u001b[0mreset_index\u001b[0m\u001b[0;34m(\u001b[0m\u001b[0mdrop\u001b[0m\u001b[0;34m=\u001b[0m\u001b[0;32mTrue\u001b[0m\u001b[0;34m)\u001b[0m\u001b[0;34m\u001b[0m\u001b[0m\n",
      "\u001b[0;31mTypeError\u001b[0m: get_values() takes 1 positional argument but 2 were given"
     ]
    }
   ],
   "source": [
    "dfs['Data'].columns = dfs['Data'].iloc[2, :].get_values().astype(str)\n",
    "dfs['Data'].drop([0,1,2], inplace=True, axis=0)   #Only do it once\n",
    "dfs['Data'].reset_index(drop=True)"
   ]
  },
  {
   "cell_type": "code",
   "execution_count": 14,
   "metadata": {},
   "outputs": [
    {
     "data": {
      "text/plain": [
       "count    1.350000e+02\n",
       "mean     3.180542e+07\n",
       "std      1.536328e+08\n",
       "min      0.000000e+00\n",
       "25%      4.430412e+00\n",
       "50%      1.845212e+01\n",
       "75%      2.365800e+05\n",
       "max      1.223340e+09\n",
       "Name: 1960.0, dtype: float64"
      ]
     },
     "execution_count": 14,
     "metadata": {},
     "output_type": "execute_result"
    }
   ],
   "source": [
    "dfs['Data'].loc[:,'1960.0'].describe()"
   ]
  },
  {
   "cell_type": "code",
   "execution_count": 15,
   "metadata": {
    "collapsed": true
   },
   "outputs": [],
   "source": [
    "import matplotlib.pyplot as plt"
   ]
  },
  {
   "cell_type": "code",
   "execution_count": 16,
   "metadata": {
    "collapsed": true
   },
   "outputs": [],
   "source": [
    "%matplotlib inline"
   ]
  },
  {
   "cell_type": "code",
   "execution_count": 31,
   "metadata": {},
   "outputs": [
    {
     "data": {
      "text/plain": [
       "<matplotlib.axes._subplots.AxesSubplot at 0x7f2deda67dd8>"
      ]
     },
     "execution_count": 31,
     "metadata": {},
     "output_type": "execute_result"
    },
    {
     "data": {
      "image/png": "[encoded data removed]",
      "text/plain": [
       "<matplotlib.figure.Figure at 0x7f2dedbcb6d8>"
      ]
     },
     "metadata": {},
     "output_type": "display_data"
    }
   ],
   "source": [
    "dfs['Data']['1960.0'].plot.hist()"
   ]
  },
  {
   "cell_type": "code",
   "execution_count": 32,
   "metadata": {},
   "outputs": [
    {
     "data": {
      "text/plain": [
       "<matplotlib.axes._subplots.AxesSubplot at 0x7f2ded261208>"
      ]
     },
     "execution_count": 32,
     "metadata": {},
     "output_type": "execute_result"
    },
    {
     "data": {
      "image/png": "[encoded data removed]",
      "text/plain": [
       "<matplotlib.figure.Figure at 0x7f2dec4ef2b0>"
      ]
     },
     "metadata": {},
     "output_type": "display_data"
    }
   ],
   "source": [
    "dfs['Data']['1960.0'].plot.kde()"
   ]
  },
  {
   "cell_type": "code",
   "execution_count": 34,
   "metadata": {},
   "outputs": [
    {
     "data": {
      "text/plain": [
       "<matplotlib.axes._subplots.AxesSubplot at 0x7f2decfc19b0>"
      ]
     },
     "execution_count": 34,
     "metadata": {},
     "output_type": "execute_result"
    },
    {
     "data": {
      "image/png": "[encoded data removed]",
      "text/plain": [
       "<matplotlib.figure.Figure at 0x7f2dedb14eb8>"
      ]
     },
     "metadata": {},
     "output_type": "display_data"
    }
   ],
   "source": [
    "dfs['Data']['1960.0'].plot.area()"
   ]
  },
  {
   "cell_type": "code",
   "execution_count": null,
   "metadata": {
    "collapsed": true
   },
   "outputs": [],
   "source": []
  }
 ],
 "metadata": {
  "kernelspec": {
   "display_name": "Python 3",
   "language": "python",
   "name": "python3"
  },
  "language_info": {
   "codemirror_mode": {
    "name": "ipython",
    "version": 3
   },
   "file_extension": ".py",
   "mimetype": "text/x-python",
   "name": "python",
   "nbconvert_exporter": "python",
   "pygments_lexer": "ipython3",
   "version": "3.6.1"
  }
 },
 "nbformat": 4,
 "nbformat_minor": 2
}
