{
 "cells": [
  {
   "cell_type": "markdown",
   "metadata": {},
   "source": [
    "** O U T L I N E **\n",
    "\n",
    "* What is Pandas and its Ecosystem?\n",
    "* Load csv/ excel/ json/ url data file\n",
    "* Access dataframe by columns, rows and cells.\n",
    "* How to view dataframe in a high level.\n",
    "* Work with Text in Pandas\n",
    "* Manipulate data\n",
    "* Some simple visualizations\n",
    "* Useful external links"
   ]
  },
  {
   "cell_type": "markdown",
   "metadata": {},
   "source": [
    "###  What is Pandas and its Ecosystem?\n",
    "\n",
    "`Pandas` is a Python open-source toolkit for data analysis built on top of `Numpy`. It is considered as one of the most powerful tools ever existed for practices in real world for tabular data in 1-dimension (`pd.series`), 2-dimension (`pd.DataFrame`), or higher-dimension (`pd.Panel`). However, in this assignment, we focus on the first two kinds of Pandas data structure.\n",
    "\n",
    "Along with `Numpy`, `Pandas` is one of the most popular open-source package in `Python` community. There are many other libraries built on top of and/or integrate with `Pandas` to serve multiple needs in data science in general, e.g. data preparation, analysis and visualization. Some of them can be named as follows:\n",
    "\n",
    "* [**Statmodels**](!http://www.statsmodels.org/): general linear regression and time series models in statistics, and econometrices.\n",
    "* [**scikit-learn**](!http://scikit-learn.org/): machine learning library with pipeline.\n",
    "* [**Bokeh**](!http://bokeh.pydata.org/): interactive visualization for web, especially used for large datasets.\n",
    "\n",
    "More information can be seen at [Pandas Documentation](!https://pandas.pydata.org/pandas-docs/stable/ecosystem.html). Nonetheless, even only with `Pandas` you can also do all kinds of jobs thanks to the support of community! In the next part of this pair assignment, we will walk you through all the basic steps to learn more `Pandas`"
   ]
  },
  {
   "cell_type": "markdown",
   "metadata": {},
   "source": [
    "### Load csv/ excel/ json/ url data file\n",
    "\n",
    "The first step is importing libaries (most of the time we combine both `numpy` and `pandas`)"
   ]
  },
  {
   "cell_type": "code",
   "execution_count": null,
   "metadata": {
    "collapsed": true
   },
   "outputs": [],
   "source": [
    "import numpy as np\n",
    "import pandas as pd"
   ]
  },
  {
   "cell_type": "markdown",
   "metadata": {},
   "source": [
    "#### CSV File\n",
    "```python\n",
    "df = pd.read_csv(PATH_TO_CSV_FILE)\n",
    "```"
   ]
  },
  {
   "cell_type": "code",
   "execution_count": null,
   "metadata": {
    "collapsed": true
   },
   "outputs": [],
   "source": [
    "pd.read_csv?"
   ]
  },
  {
   "cell_type": "markdown",
   "metadata": {},
   "source": [
    "#### Excel file\n",
    "\n",
    "\n",
    "```python\n",
    "df = pd.read_excel(PATH_TO_EXCEL_FILE)\n",
    "```"
   ]
  },
  {
   "cell_type": "code",
   "execution_count": null,
   "metadata": {},
   "outputs": [],
   "source": [
    "PATH_TO_EXCEL_FILE = None\" #Replace None by the path to excel file\n",
    "df1 = pd.read_excel(PATH_TO_EXCEL_FILE, na_values=\"\") # Read the excel file located at PATH_TO_EXCEL_FILE by the above method"
   ]
  },
  {
   "cell_type": "markdown",
   "metadata": {},
   "source": [
    "#### Json file\n",
    "```python\n",
    "df = pd.read_json(PATH_TO_JSON_FILE)\n",
    "```"
   ]
  },
  {
   "cell_type": "code",
   "execution_count": null,
   "metadata": {
    "collapsed": true
   },
   "outputs": [],
   "source": [
    "PATH_TO_JSON_FILE = None #Replace None by the path to json file\n",
    "df2 = pd.read_json(PATH_TO_JSON_FILE, orient=\"columns\") # Read the excel file located at PATH_TO_JSON_FILE by the above method"
   ]
  },
  {
   "cell_type": "markdown",
   "metadata": {},
   "source": [
    "#### CSV with URL\n",
    "```python\n",
    "df = pd.read_csv(PATH_TO_FILE)\n",
    "```"
   ]
  },
  {
   "cell_type": "code",
   "execution_count": null,
   "metadata": {
    "collapsed": true
   },
   "outputs": [],
   "source": [
    "pd.read_csv?"
   ]
  },
  {
   "cell_type": "code",
   "execution_count": null,
   "metadata": {},
   "outputs": [],
   "source": [
    "URL_PATH_TO_FILE = \"https://pythonhow.com/data/income_data.csv\" #No need to do anything. Only run this cell\n",
    "df3 = pd.read_csv(URL_PATH_TO_FILE).head()"
   ]
  },
  {
   "cell_type": "markdown",
   "metadata": {},
   "source": [
    "(**Bonus**): For some reasons, during a working process, if you would like to try something on a copy version of your `DataFrame`, use `copy()` method if you would not want the original to be changed."
   ]
  },
  {
   "cell_type": "code",
   "execution_count": null,
   "metadata": {
    "collapsed": true
   },
   "outputs": [],
   "source": [
    "pd.DataFrame.copy?"
   ]
  },
  {
   "cell_type": "markdown",
   "metadata": {},
   "source": [
    "### Accessing DataFrame by columns, rows, and cells\n"
   ]
  },
  {
   "cell_type": "markdown",
   "metadata": {},
   "source": [
    "#### Extract a subset with `loc` and `iloc`\n",
    "There are two main ways are strongly recommended to indexing and selecting data\n",
    "\n",
    "* Label-based index and column: **`loc`**\n",
    "* Integer-based index and column: **`iloc`**\n",
    "\n",
    "Both of them are used the same kind of syntax\n",
    "```python\n",
    "df.iloc[start_row_index:end_row_index, start_col_index:end_col_index]\n",
    "\n",
    "df.loc[start_row_index:end_row_index, start_col_index:end_col_index]\n",
    "```"
   ]
  },
  {
   "cell_type": "markdown",
   "metadata": {},
   "source": [
    "More advanced techniques can be found at [Pandas Cookbook](!https://pandas.pydata.org/pandas-docs/stable/cookbook.html#cookbook-selection)\n",
    "\n",
    "Starting from this session, we will rely on documentation and the above reference link to complete the rest of this assignment."
   ]
  },
  {
   "cell_type": "code",
   "execution_count": null,
   "metadata": {},
   "outputs": [],
   "source": [
    "#Show a slice of DataFrame from \"Tỉnh\":\"Xã\" of df1"
   ]
  },
  {
   "cell_type": "code",
   "execution_count": null,
   "metadata": {},
   "outputs": [],
   "source": [
    "#Show a list of all columns names of df1"
   ]
  },
  {
   "cell_type": "code",
   "execution_count": null,
   "metadata": {},
   "outputs": [],
   "source": [
    "#Show us the first 10 rows of \"Tên Tỉnh\" and \"Ghi Chú\" of df1"
   ]
  },
  {
   "cell_type": "code",
   "execution_count": null,
   "metadata": {},
   "outputs": [],
   "source": [
    "# Show the last column of df1"
   ]
  },
  {
   "cell_type": "markdown",
   "metadata": {},
   "source": [
    "### How to view dataframe in a high level"
   ]
  },
  {
   "cell_type": "markdown",
   "metadata": {},
   "source": [
    "##### `head`/ `tail` method"
   ]
  },
  {
   "cell_type": "code",
   "execution_count": null,
   "metadata": {
    "collapsed": true
   },
   "outputs": [],
   "source": [
    "pd.DataFrame.head?"
   ]
  },
  {
   "cell_type": "code",
   "execution_count": null,
   "metadata": {
    "collapsed": true
   },
   "outputs": [],
   "source": [
    "pd.DataFrame.tail?"
   ]
  },
  {
   "cell_type": "code",
   "execution_count": null,
   "metadata": {},
   "outputs": [],
   "source": [
    "#Apply method head for df1"
   ]
  },
  {
   "cell_type": "code",
   "execution_count": null,
   "metadata": {},
   "outputs": [],
   "source": [
    "#Apply method tail for df3"
   ]
  },
  {
   "cell_type": "markdown",
   "metadata": {},
   "source": [
    "####  `describe` method"
   ]
  },
  {
   "cell_type": "code",
   "execution_count": null,
   "metadata": {
    "collapsed": true
   },
   "outputs": [],
   "source": [
    "pd.DataFrame.describe?"
   ]
  },
  {
   "cell_type": "code",
   "execution_count": null,
   "metadata": {},
   "outputs": [],
   "source": [
    "#Apply method describe for 'Tên Tỉnh','Tên QH','Tên Xã' in df1"
   ]
  },
  {
   "cell_type": "markdown",
   "metadata": {},
   "source": [
    "####   `Min/ Max` method"
   ]
  },
  {
   "cell_type": "code",
   "execution_count": null,
   "metadata": {
    "collapsed": true
   },
   "outputs": [],
   "source": [
    "pd.DataFrame.min?"
   ]
  },
  {
   "cell_type": "code",
   "execution_count": null,
   "metadata": {
    "collapsed": true
   },
   "outputs": [],
   "source": [
    "pd.DataFrame.max?"
   ]
  },
  {
   "cell_type": "code",
   "execution_count": null,
   "metadata": {},
   "outputs": [],
   "source": [
    "#Apply method min and max for to get the minimum value and maximum value in df3"
   ]
  },
  {
   "cell_type": "markdown",
   "metadata": {},
   "source": [
    "####  Count values and Mode"
   ]
  },
  {
   "cell_type": "code",
   "execution_count": null,
   "metadata": {
    "collapsed": true
   },
   "outputs": [],
   "source": [
    "pd.DataFrame.count?"
   ]
  },
  {
   "cell_type": "code",
   "execution_count": null,
   "metadata": {
    "collapsed": true
   },
   "outputs": [],
   "source": [
    "pd.DataFrame.mode?"
   ]
  },
  {
   "cell_type": "code",
   "execution_count": null,
   "metadata": {},
   "outputs": [],
   "source": [
    "df1[['Tên Tỉnh','Tên QH','Tên Xã']].groupby(['Tên Tỉnh','Tên QH']).count()"
   ]
  },
  {
   "cell_type": "markdown",
   "metadata": {},
   "source": [
    "### Work with Text in Pandas\n",
    "\n",
    "#### Splitting  strings"
   ]
  },
  {
   "cell_type": "code",
   "execution_count": null,
   "metadata": {
    "collapsed": true
   },
   "outputs": [],
   "source": [
    "# Use .str.split(',') to split text in `other` of df3"
   ]
  },
  {
   "cell_type": "markdown",
   "metadata": {},
   "source": [
    "#### Checking a substring contained in a string"
   ]
  },
  {
   "cell_type": "code",
   "execution_count": null,
   "metadata": {},
   "outputs": [],
   "source": [
    "# Count how many rows are there containing \"Thành phố\" by str.contains(\"Thành phố\")"
   ]
  },
  {
   "cell_type": "code",
   "execution_count": null,
   "metadata": {},
   "outputs": [],
   "source": [
    "# # Count how many rows are there containing \"Thành phố\" by check_city function\n",
    "check_city = lambda x: True if \"Thành phố\" in x else False"
   ]
  },
  {
   "cell_type": "markdown",
   "metadata": {},
   "source": [
    "### Manipulate data"
   ]
  },
  {
   "cell_type": "markdown",
   "metadata": {},
   "source": [
    "#### Working missing data"
   ]
  },
  {
   "cell_type": "code",
   "execution_count": null,
   "metadata": {},
   "outputs": [],
   "source": [
    "# Drop all rows contain any 'NaN' values"
   ]
  },
  {
   "cell_type": "markdown",
   "metadata": {},
   "source": [
    "#### Group by with `split-apply-combine`"
   ]
  },
  {
   "cell_type": "code",
   "execution_count": null,
   "metadata": {
    "collapsed": true
   },
   "outputs": [],
   "source": [
    "grouped = df1[['Tên Tỉnh','Tên QH','Tên Xã']].groupby(['Tên Tỉnh','Tên QH']) #Run this cell"
   ]
  },
  {
   "cell_type": "code",
   "execution_count": null,
   "metadata": {},
   "outputs": [],
   "source": [
    "grouped.describe()  #Run this cell"
   ]
  },
  {
   "cell_type": "markdown",
   "metadata": {},
   "source": [
    "### Simple visualization"
   ]
  },
  {
   "cell_type": "code",
   "execution_count": null,
   "metadata": {
    "collapsed": true
   },
   "outputs": [],
   "source": [
    "import matplotlib.pyplot as plt\n",
    "%matplotlib inline"
   ]
  },
  {
   "cell_type": "code",
   "execution_count": null,
   "metadata": {},
   "outputs": [],
   "source": [
    "df3.loc[0:2,\"2005\":\"2013\"].T.plot(kind=\"line\") # Run this cell"
   ]
  },
  {
   "cell_type": "markdown",
   "metadata": {},
   "source": [
    "### Useful external links:\n",
    "1. Simple step to guild you from the beginning until build a simple web app of applications in 15 minutes https://pythonhow.com/accessing-dataframe-columns-rows-and-cells/\n",
    "\n",
    "2. An exhaustive list of up-to-date tutorials of `Pandas` https://pandas.pydata.org/pandas-docs/stable/text.html"
   ]
  }
 ],
 "metadata": {
  "kernelspec": {
   "display_name": "Python 3",
   "language": "python",
   "name": "python3"
  },
  "language_info": {
   "codemirror_mode": {
    "name": "ipython",
    "version": 3
   },
   "file_extension": ".py",
   "mimetype": "text/x-python",
   "name": "python",
   "nbconvert_exporter": "python",
   "pygments_lexer": "ipython3",
   "version": "3.6.1"
  }
 },
 "nbformat": 4,
 "nbformat_minor": 2
}
